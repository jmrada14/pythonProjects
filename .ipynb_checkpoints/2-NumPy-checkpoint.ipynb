{
  "cells": [
    {
      "metadata": {},
      "cell_type": "markdown",
      "source": "# Introduction to NumPy"
    },
    {
      "metadata": {},
      "cell_type": "markdown",
      "source": "There are a few extremely important libraries for data science in Python. **NumPy** is one of them.\n\nNumPy is great for efficiently loading, storing and manipulating in-memory data.\n\nData comes in a wide variety of formats, but almost everything we do in data science will boil everything down to arrays of numbers.\n\nFor example, the words in documents can be represented as the numbers that encode letters in computers or even the frequency of particular words in a collection of documents. Digital images can be thought of as two-dimensional arrays of numbers representing pixel brightness or color. Sound files can be represented as one-dimensional arrays of frequency versus time. NumPy excels at this.\n\nNumPy is short for *Numerical Python*, and it provides an efficient means of storing and operating on dense data buffers in Python."
    },
    {
      "metadata": {},
      "cell_type": "markdown",
      "source": "**Library Alias**"
    },
    {
      "metadata": {
        "trusted": true
      },
      "cell_type": "code",
      "source": "import numpy as np",
      "execution_count": null,
      "outputs": []
    },
    {
      "metadata": {},
      "cell_type": "markdown",
      "source": "## Built-In Help"
    },
    {
      "metadata": {},
      "cell_type": "markdown",
      "source": "There's a lot to remember when we start pulling libraries in to Python. Jupyter notebooks have tried to make it easier:"
    },
    {
      "metadata": {},
      "cell_type": "markdown",
      "source": "### Exercise"
    },
    {
      "metadata": {
        "trusted": true
      },
      "cell_type": "code",
      "source": "# Place your cursor after the period and press <TAB>:\nnp.",
      "execution_count": null,
      "outputs": []
    },
    {
      "metadata": {},
      "cell_type": "markdown",
      "source": "### Exercise"
    },
    {
      "metadata": {
        "trusted": true
      },
      "cell_type": "code",
      "source": "# Replace 'add' below with a few different NumPy function names and look over the documentation:\nnp.add?",
      "execution_count": null,
      "outputs": []
    },
    {
      "metadata": {},
      "cell_type": "markdown",
      "source": "Pick out some functions and try reading the documentation - get comfortable doing it!"
    },
    {
      "metadata": {},
      "cell_type": "markdown",
      "source": "## NumPy arrays: a specialized data structure for analysis\n\n> **Learning goal:** By the end of this subsection, you should have a basic understanding of what NumPy arrays are and how they differ from the other Python data structures you have studied thus far."
    },
    {
      "metadata": {},
      "cell_type": "markdown",
      "source": "So, why bother with NumPy? We can just use Python lists, right?"
    },
    {
      "metadata": {},
      "cell_type": "markdown",
      "source": "### Lists in Python\n"
    },
    {
      "metadata": {},
      "cell_type": "markdown",
      "source": "Remember that Python lists can hold just one kind of object **or** we can store mulitple object types:"
    },
    {
      "metadata": {
        "trusted": true
      },
      "cell_type": "code",
      "source": "myList = list(range(10))\nmyList",
      "execution_count": null,
      "outputs": []
    },
    {
      "metadata": {
        "trusted": true
      },
      "cell_type": "code",
      "source": "[type(item) for item in myList]",
      "execution_count": null,
      "outputs": []
    },
    {
      "metadata": {
        "trusted": true
      },
      "cell_type": "code",
      "source": "myList2 = [True, \"2\", 3.0, 4]\n[type(item) for item in myList2]",
      "execution_count": null,
      "outputs": []
    },
    {
      "metadata": {},
      "cell_type": "markdown",
      "source": "This is great and flexible, but the flexibility comes at a price. \n\nEach item in a list is really a separate Python object. That means that each item in a list must contain its own type info, reference count, and other information. All of this information can become expensive in terms of memory and performance if we are dealing with hundreds of thousands or millions of items in a list. \n\nUsually, in data science, our arrays just store a single type of data anyway (such as integers or floats), so there is room for improved efficiency. \n\nEnter the fixed-type, NumPy-style array."
    },
    {
      "metadata": {},
      "cell_type": "markdown",
      "source": "### NumPy Fixed-type arrays"
    },
    {
      "metadata": {},
      "cell_type": "markdown",
      "source": "At the level of implementation by the computer, the `ndarray` that is part of the NumPy package contains a single pointer to one contiguous block of data. This is efficient memory-wise and computationally. Better still, NumPy provides efficient *operations* on data stored in `ndarray` objects.\n\n(Note that we will pretty much use “array,” “NumPy array,” and “ndarray” interchangeably throughout this section to refer to the ndarray object.)"
    },
    {
      "metadata": {},
      "cell_type": "markdown",
      "source": "#### Creating NumPy arrays method 1: using Python lists"
    },
    {
      "metadata": {
        "trusted": true
      },
      "cell_type": "code",
      "source": "# Create an integer array:\nnp.array([1, 4, 2, 5, 3])",
      "execution_count": null,
      "outputs": []
    },
    {
      "metadata": {},
      "cell_type": "markdown",
      "source": "**Think, Pair, Share**"
    },
    {
      "metadata": {
        "trusted": true
      },
      "cell_type": "code",
      "source": "np.array([3.14, 4, 2, 3])",
      "execution_count": null,
      "outputs": []
    },
    {
      "metadata": {},
      "cell_type": "markdown",
      "source": "This is called *upcasting*!"
    },
    {
      "metadata": {},
      "cell_type": "markdown",
      "source": "### Exercise - try it and learn!"
    },
    {
      "metadata": {
        "trusted": true
      },
      "cell_type": "code",
      "source": "# What happens if you construct an array using a list that contains a combination of integers, floats, and strings?\nnp.array([3.14, '4', 2, 3])",
      "execution_count": null,
      "outputs": []
    },
    {
      "metadata": {},
      "cell_type": "markdown",
      "source": "**Explicit Typing**"
    },
    {
      "metadata": {},
      "cell_type": "markdown",
      "source": "**Share**"
    },
    {
      "metadata": {
        "trusted": true
      },
      "cell_type": "code",
      "source": "np.array([1, 2, 3, 4], dtype='float32')",
      "execution_count": null,
      "outputs": []
    },
    {
      "metadata": {},
      "cell_type": "markdown",
      "source": "### Exercise"
    },
    {
      "metadata": {
        "trusted": true
      },
      "cell_type": "code",
      "source": "# Try this using a different dtype.\n# Remember that you can always refer to the documentation with the command np.array.\nnp.array([1, 2, 3, 4], dtype='int16')",
      "execution_count": null,
      "outputs": []
    },
    {
      "metadata": {},
      "cell_type": "markdown",
      "source": "**Multi-Dimensional Array**"
    },
    {
      "metadata": {},
      "cell_type": "markdown",
      "source": "Multidimensional arrays are useful and common in data science. "
    },
    {
      "metadata": {},
      "cell_type": "markdown",
      "source": "**Think, Pair, Share**"
    },
    {
      "metadata": {
        "trusted": true
      },
      "cell_type": "code",
      "source": "# nested lists result in multi-dimensional arrays\nnp.array([range(i, i + 3) for i in [2, 4, 6]])",
      "execution_count": null,
      "outputs": []
    },
    {
      "metadata": {},
      "cell_type": "markdown",
      "source": "#### Creating NumPy arrays method 2: building from scratch"
    },
    {
      "metadata": {},
      "cell_type": "markdown",
      "source": "In practice, it is often more efficient to create arrays from scratch using functions built into NumPy, particularly for larger arrays."
    },
    {
      "metadata": {
        "trusted": true
      },
      "cell_type": "code",
      "source": "np.zeros(10, dtype=int)",
      "execution_count": null,
      "outputs": []
    },
    {
      "metadata": {
        "trusted": true
      },
      "cell_type": "code",
      "source": "np.ones((3, 5), dtype=float)",
      "execution_count": null,
      "outputs": []
    },
    {
      "metadata": {
        "trusted": true
      },
      "cell_type": "code",
      "source": "np.full((3, 5), 3.14)",
      "execution_count": null,
      "outputs": []
    },
    {
      "metadata": {},
      "cell_type": "markdown",
      "source": "#### Exercise: try referencing the documentation"
    },
    {
      "metadata": {
        "trusted": true
      },
      "cell_type": "code",
      "source": "np.arange(0, 20, 3)",
      "execution_count": null,
      "outputs": []
    },
    {
      "metadata": {
        "trusted": true
      },
      "cell_type": "code",
      "source": "np.arange?",
      "execution_count": null,
      "outputs": []
    },
    {
      "metadata": {},
      "cell_type": "markdown",
      "source": "#### Exercise - reference the docs"
    },
    {
      "metadata": {
        "trusted": true
      },
      "cell_type": "code",
      "source": "# What does np.arange(0, 20, 2) do?\nnp.arange?",
      "execution_count": null,
      "outputs": []
    },
    {
      "metadata": {
        "trusted": true
      },
      "cell_type": "code",
      "source": "np.arange(0, 20, 2) ",
      "execution_count": null,
      "outputs": []
    },
    {
      "metadata": {
        "trusted": true
      },
      "cell_type": "code",
      "source": "np.linspace(0, 1, 5)",
      "execution_count": null,
      "outputs": []
    },
    {
      "metadata": {
        "trusted": true
      },
      "cell_type": "code",
      "source": "np.random.random((3, 3))",
      "execution_count": null,
      "outputs": []
    },
    {
      "metadata": {
        "trusted": true
      },
      "cell_type": "code",
      "source": "np.random.normal(0, 1, (3, 3))",
      "execution_count": null,
      "outputs": []
    },
    {
      "metadata": {
        "trusted": true
      },
      "cell_type": "code",
      "source": "np.random.randint(0, 10, (3, 3))",
      "execution_count": null,
      "outputs": []
    },
    {
      "metadata": {
        "trusted": true
      },
      "cell_type": "code",
      "source": "# What does np.eye(3) do?\nnp.eye?",
      "execution_count": null,
      "outputs": []
    },
    {
      "metadata": {
        "trusted": true
      },
      "cell_type": "code",
      "source": "np.eye(3)",
      "execution_count": null,
      "outputs": []
    },
    {
      "metadata": {
        "trusted": true
      },
      "cell_type": "code",
      "source": "np.empty(3)",
      "execution_count": null,
      "outputs": []
    },
    {
      "metadata": {},
      "cell_type": "markdown",
      "source": "#### Exercise\n\nTake a couple of minutes to go back and play with these code snippets, changing the parameters. These functions are the bread-and-butter of creating NumPy arrays and you will want to become comfortable with them."
    },
    {
      "metadata": {},
      "cell_type": "markdown",
      "source": "Below is a table listing out several of the array-creation functions in NumPy.\n\n| Function      | Description |\n|:--------------|:------------|\n| `array`       | Converts input data (list, tuple, array, or other sequence type) to an ndarray either |\n|               | by inferring a dtype or explicitly specifying a dtype. Copies the input data by default. |\n| `asarray`     | Converts input to ndarray, but does not copy if the input is already an ndarray. |\n| `arange`      | Similar to the built-in `range()` function but returns an ndarray instead of a list. |\n| `ones`, `ones_like` | Produces an array of all 1s with the given shape and dtype. |\n|               | `ones_like` takes another array and produces a ones-array of the same shape and dtype. |\n| `zeros`, `zeros_like` | Similar to `ones` and `ones_like` but producing arrays of 0s instead. |\n| `empty`, `empty_like` | Creates new arrays by allocating new memory, but does not populate with any values \n|               | like `ones` and `zeros`. |\n| `full`, `full_like` | Produces an array of the given shape and dtype with all values set to the indicated “fill value.” |\n|               | `full_like` takes another array and produces a a filled array of the same shape and dtype. |\n| `eye`, `identity` | Create a square $N \\times N$ identity matrix (1s on the diagonal and 0s elsewhere) |"
    },
    {
      "metadata": {},
      "cell_type": "markdown",
      "source": "### NumPy data types\n\nThe standard NumPy data types are listed in the following table. Note that when constructing an array, they can be specified using a string:\n\n```python\nnp.zeros(8, dtype='int16')\n```\n\nOr they can be specified directly using the NumPy object:\n\n```python\nnp.zeros(8, dtype=np.int16)\n```"
    },
    {
      "metadata": {},
      "cell_type": "markdown",
      "source": "| Data type\t    | Description |\n|:--------------|:------------|\n| ``bool_``     | Boolean (True or False) stored as a byte |\n| ``int_``      | Default integer type (same as C ``long``; normally either ``int64`` or ``int32``)| \n| ``intc``      | Identical to C ``int`` (normally ``int32`` or ``int64``)| \n| ``intp``      | Integer used for indexing (same as C ``ssize_t``; normally either ``int32`` or ``int64``)| \n| ``int8``      | Byte (-128 to 127)| \n| ``int16``     | Integer (-32768 to 32767)|\n| ``int32``     | Integer (-2147483648 to 2147483647)|\n| ``int64``     | Integer (-9223372036854775808 to 9223372036854775807)| \n| ``uint8``     | Unsigned integer (0 to 255)| \n| ``uint16``    | Unsigned integer (0 to 65535)| \n| ``uint32``    | Unsigned integer (0 to 4294967295)| \n| ``uint64``    | Unsigned integer (0 to 18446744073709551615)| \n| ``float_``    | Shorthand for ``float64``.| \n| ``float16``   | Half-precision float: sign bit, 5 bits exponent, 10 bits mantissa| \n| ``float32``   | Single-precision float: sign bit, 8 bits exponent, 23 bits mantissa| \n| ``float64``   | Double-precision float: sign bit, 11 bits exponent, 52 bits mantissa| \n| ``complex_``  | Shorthand for ``complex128``.| \n| ``complex64`` | Complex number, represented by two 32-bit floats| \n| ``complex128``| Complex number, represented by two 64-bit floats| "
    },
    {
      "metadata": {},
      "cell_type": "markdown",
      "source": "If these data types seem a lot like those in C, that's because NumPy is built in C."
    },
    {
      "metadata": {},
      "cell_type": "markdown",
      "source": "> **Takeaway:** NumPy arrays are a data structure similar to Python lists that provide high performance when storing and working on large amounts of homogeneous data—precisely the kind of data that you will encounter frequently in doing data science. NumPy arrays support many data types beyond those discussed in this course. With all of that said, however, don’t worry about memorizing all of the NumPy dtypes. **It’s often just necessary to care about the general kind of data you’re dealing with: floating point, integer, Boolean, string, or general Python object.**"
    },
    {
      "metadata": {},
      "cell_type": "markdown",
      "source": "## Working with NumPy arrays: the basics"
    },
    {
      "metadata": {},
      "cell_type": "markdown",
      "source": "> **Learning goal:** By the end of this subsection, you should be comfortable working with NumPy arrays in basic ways."
    },
    {
      "metadata": {},
      "cell_type": "markdown",
      "source": "Now that you know how to create arrays in NumPy, you need to get comfortable manipulating them for two reasons. \n1. You will work with NumPy arrays as part of your exploration of data science. \n1. Our other important Python data-science tool, pandas, is actually built around NumPy. \n\nGetting good at working with NumPy arrays will pay dividends in the next section (Section 4) and beyond: NumPy arrays are the building blocks for the `Series` and `DataFrame` data structures in the Python pandas library and you will use them *a lot* in data science. \n\nTo get comfortable with array manipulation, we will cover five specifics:\n\n- **Arrays attributes**: Assessing the size, shape, and data types of arrays\n- **Indexing arrays**: Getting and setting the value of individual array elements\n- **Slicing arrays**: Getting and setting smaller subarrays within a larger array\n- **Reshaping arrays**: Changing the shape of a given array\n- **Joining and splitting arrays**: Combining multiple arrays into one and splitting one array into multiple arrays"
    },
    {
      "metadata": {},
      "cell_type": "markdown",
      "source": "### Array attributes"
    },
    {
      "metadata": {},
      "cell_type": "markdown",
      "source": "First, let's look at some array attributes. We'll start by defining three arrays filled with random numbers: one one-dimensional, another two-dimensional, and the last three-dimensional. Because we will be using NumPy's random number generator, we will set a *seed* value in order to ensure that you get the same random arrays each time you run this code:"
    },
    {
      "metadata": {
        "trusted": true
      },
      "cell_type": "code",
      "source": "import numpy as np\nnp.random.seed(0)  # seed for reproducibility\n\na1 = np.random.randint(10, size=6)  # One-dimensional array\na2 = np.random.randint(10, size=(3, 4))  # Two-dimensional array\na3 = np.random.randint(10, size=(3, 4, 5))  # Three-dimensional array",
      "execution_count": null,
      "outputs": []
    },
    {
      "metadata": {},
      "cell_type": "markdown",
      "source": "**Array Types**"
    },
    {
      "metadata": {
        "trusted": true
      },
      "cell_type": "code",
      "source": "print(\"dtype:\", a3.dtype)",
      "execution_count": null,
      "outputs": []
    },
    {
      "metadata": {},
      "cell_type": "markdown",
      "source": "\n\n### Exercise:"
    },
    {
      "metadata": {
        "trusted": true
      },
      "cell_type": "code",
      "source": "a3",
      "execution_count": null,
      "outputs": []
    },
    {
      "metadata": {
        "trusted": true
      },
      "cell_type": "code",
      "source": "# Change the values in this code snippet to look at the \n# attributes for a1, a2, and a3:\nprint(\"a3 ndim: \", a3.ndim)\nprint(\"a3 shape:\", a3.shape)\nprint(\"a3 size: \", a3.size)",
      "execution_count": null,
      "outputs": []
    },
    {
      "metadata": {},
      "cell_type": "markdown",
      "source": "### Indexing arrays\n\n**Quick Review**"
    },
    {
      "metadata": {
        "trusted": true
      },
      "cell_type": "code",
      "source": "a1",
      "execution_count": null,
      "outputs": []
    },
    {
      "metadata": {},
      "cell_type": "markdown",
      "source": "**Share**"
    },
    {
      "metadata": {
        "trusted": true
      },
      "cell_type": "code",
      "source": "a1[0]",
      "execution_count": null,
      "outputs": []
    },
    {
      "metadata": {
        "trusted": true
      },
      "cell_type": "code",
      "source": "a1[4]",
      "execution_count": null,
      "outputs": []
    },
    {
      "metadata": {
        "trusted": true
      },
      "cell_type": "code",
      "source": "a1[-1]",
      "execution_count": null,
      "outputs": []
    },
    {
      "metadata": {
        "trusted": true
      },
      "cell_type": "code",
      "source": "a1[-2]",
      "execution_count": null,
      "outputs": []
    },
    {
      "metadata": {},
      "cell_type": "markdown",
      "source": "**Multi-Dimensional Arrays**"
    },
    {
      "metadata": {
        "trusted": true
      },
      "cell_type": "code",
      "source": "a2",
      "execution_count": null,
      "outputs": []
    },
    {
      "metadata": {},
      "cell_type": "markdown",
      "source": "**Explore on your own**\n\nDo multidimensional NumPy arrays work like Python lists of lists? Try a few combinations like a2[1][1] or a3[0][2][1] and see what is returned:"
    },
    {
      "metadata": {
        "trusted": true
      },
      "cell_type": "code",
      "source": "a2[0, 0]",
      "execution_count": null,
      "outputs": []
    },
    {
      "metadata": {
        "trusted": true
      },
      "cell_type": "code",
      "source": "a2[2, 0]",
      "execution_count": null,
      "outputs": []
    },
    {
      "metadata": {
        "trusted": true
      },
      "cell_type": "code",
      "source": "a2[2, -1]",
      "execution_count": null,
      "outputs": []
    },
    {
      "metadata": {
        "trusted": true
      },
      "cell_type": "code",
      "source": "a2[0, 0] = 12\na2",
      "execution_count": null,
      "outputs": []
    },
    {
      "metadata": {},
      "cell_type": "markdown",
      "source": "**Think, pair, share**"
    },
    {
      "metadata": {
        "trusted": true
      },
      "cell_type": "code",
      "source": "a1",
      "execution_count": null,
      "outputs": []
    },
    {
      "metadata": {
        "trusted": true
      },
      "cell_type": "code",
      "source": "a1[0] = 3.14159\na1",
      "execution_count": null,
      "outputs": []
    },
    {
      "metadata": {},
      "cell_type": "markdown",
      "source": "Watch out! This doesn't behave like you might expect."
    },
    {
      "metadata": {},
      "cell_type": "markdown",
      "source": "### Exercise:"
    },
    {
      "metadata": {
        "trusted": true
      },
      "cell_type": "code",
      "source": "# What happens if you try to insert a string into a1?\n# Hint: try both a string like '3' and one like 'three'\n\nint('3')\na1[2] = '3'\na1\na1[3] = \"three\"",
      "execution_count": null,
      "outputs": []
    },
    {
      "metadata": {},
      "cell_type": "markdown",
      "source": "### Slicing arrays"
    },
    {
      "metadata": {},
      "cell_type": "markdown",
      "source": "Similar to how you can use square brackets to access individual array elements, you can also use them to access subarrays. You do this with the *slice* notation, marked by the colon (`:`) character. \n\nNumPy slicing syntax follows that of the standard Python list; so, to access a slice of an array `a`, use this notation:\n``` python\na[start:stop:step]\n```\nIf any of these are unspecified, they default to the values ``start=0``, ``stop=``*``size of dimension``*, ``step=1``.\n\nLet's take a look at accessing sub-arrays in one dimension and in multiple dimensions."
    },
    {
      "metadata": {},
      "cell_type": "markdown",
      "source": "#### One-dimensional slices"
    },
    {
      "metadata": {
        "trusted": true
      },
      "cell_type": "code",
      "source": "a = np.arange(10)\na",
      "execution_count": null,
      "outputs": []
    },
    {
      "metadata": {
        "trusted": true
      },
      "cell_type": "code",
      "source": "a[:5]",
      "execution_count": null,
      "outputs": []
    },
    {
      "metadata": {
        "trusted": true
      },
      "cell_type": "code",
      "source": "a[5:]",
      "execution_count": null,
      "outputs": []
    },
    {
      "metadata": {
        "trusted": true
      },
      "cell_type": "code",
      "source": "a[4:7]",
      "execution_count": null,
      "outputs": []
    },
    {
      "metadata": {
        "trusted": true
      },
      "cell_type": "code",
      "source": "a[4:7:3]",
      "execution_count": null,
      "outputs": []
    },
    {
      "metadata": {},
      "cell_type": "markdown",
      "source": "**Slicing With Index**"
    },
    {
      "metadata": {
        "trusted": true
      },
      "cell_type": "code",
      "source": "a[::2]",
      "execution_count": null,
      "outputs": []
    },
    {
      "metadata": {
        "trusted": true
      },
      "cell_type": "code",
      "source": "a[1::2]",
      "execution_count": null,
      "outputs": []
    },
    {
      "metadata": {},
      "cell_type": "markdown",
      "source": "Be careful when using negative values for ``step``. When ``step`` has a negative value, the defaults for ``start`` and ``stop`` are swapped and you can use this functionality to reverse an array:"
    },
    {
      "metadata": {
        "trusted": true
      },
      "cell_type": "code",
      "source": "a[::-1]",
      "execution_count": null,
      "outputs": []
    },
    {
      "metadata": {
        "trusted": true
      },
      "cell_type": "code",
      "source": "a[5::-2]",
      "execution_count": null,
      "outputs": []
    },
    {
      "metadata": {},
      "cell_type": "markdown",
      "source": "### Exercise:"
    },
    {
      "metadata": {
        "trusted": true
      },
      "cell_type": "code",
      "source": "a",
      "execution_count": null,
      "outputs": []
    },
    {
      "metadata": {
        "trusted": true
      },
      "cell_type": "code",
      "source": "# How can you create a slice that contains every third element of a\n# descending from the second-to-last element to the second element of a?\n",
      "execution_count": null,
      "outputs": []
    },
    {
      "metadata": {},
      "cell_type": "markdown",
      "source": "#### Multidimensional slices"
    },
    {
      "metadata": {},
      "cell_type": "markdown",
      "source": "Multidimensional slices use the same slice notation of one-dimensional subarrays mixed with the comma-separated notation of multidimensional arrays. Some examples will help illustrate this."
    },
    {
      "metadata": {
        "trusted": true
      },
      "cell_type": "code",
      "source": "a2",
      "execution_count": null,
      "outputs": []
    },
    {
      "metadata": {
        "trusted": true
      },
      "cell_type": "code",
      "source": "a2[:2, :3] # two rows, three columns",
      "execution_count": null,
      "outputs": []
    },
    {
      "metadata": {
        "trusted": true
      },
      "cell_type": "code",
      "source": "a2[:3, ::2] # all rows, every other column",
      "execution_count": null,
      "outputs": []
    },
    {
      "metadata": {},
      "cell_type": "markdown",
      "source": "Finally, subarray dimensions can even be reversed together:"
    },
    {
      "metadata": {
        "trusted": true
      },
      "cell_type": "code",
      "source": "a2[::-1, ::-1]",
      "execution_count": null,
      "outputs": []
    },
    {
      "metadata": {},
      "cell_type": "markdown",
      "source": "#### Accessing array rows and columns"
    },
    {
      "metadata": {},
      "cell_type": "markdown",
      "source": "You will often need to access a single row or column in an array. You can do this through a combination of indexing and slicing; specifically by using an empty slice marked by a single colon (``:``)."
    },
    {
      "metadata": {
        "trusted": true
      },
      "cell_type": "code",
      "source": "a2",
      "execution_count": null,
      "outputs": []
    },
    {
      "metadata": {
        "trusted": true
      },
      "cell_type": "code",
      "source": "print(a2[:, 0]) # first column of x2",
      "execution_count": null,
      "outputs": []
    },
    {
      "metadata": {
        "trusted": true
      },
      "cell_type": "code",
      "source": "print(a2[0, :]) # first row of x2",
      "execution_count": null,
      "outputs": []
    },
    {
      "metadata": {},
      "cell_type": "markdown",
      "source": "In the case of row access, the empty slice can be omitted for a more compact syntax:"
    },
    {
      "metadata": {
        "trusted": true
      },
      "cell_type": "code",
      "source": "print(a2[0]) # equivalent to a2[0, :]",
      "execution_count": null,
      "outputs": []
    },
    {
      "metadata": {},
      "cell_type": "markdown",
      "source": "### Exercise:"
    },
    {
      "metadata": {
        "trusted": true
      },
      "cell_type": "code",
      "source": "# How would you access the third column of a3?\n# How about the third row of a3?\nprint(a3[:, :, 2])",
      "execution_count": null,
      "outputs": []
    },
    {
      "metadata": {},
      "cell_type": "markdown",
      "source": "#### Slices are no-copy views"
    },
    {
      "metadata": {},
      "cell_type": "markdown",
      "source": "It's important to know that slicing produces *views* of array data, not *copies*. This is a **huge** difference between NumPy array slicing and Python list slicing. \n\nWith Python lists, slices are only shallow copies of lists; if you modify a copy, it doesn't affect the parent list. \n\nWhen you modify a NumPy subarray, **you modify the original list.** "
    },
    {
      "metadata": {
        "trusted": true
      },
      "cell_type": "code",
      "source": "print(a2)",
      "execution_count": null,
      "outputs": []
    },
    {
      "metadata": {
        "trusted": true
      },
      "cell_type": "code",
      "source": "a2_sub = a2[:2, :2] # Get a a 2x2 subarray\nprint(a2_sub)",
      "execution_count": null,
      "outputs": []
    },
    {
      "metadata": {
        "trusted": true
      },
      "cell_type": "code",
      "source": "a2_sub[0, 0] = 99 # Modify\nprint(a2_sub) ",
      "execution_count": null,
      "outputs": []
    },
    {
      "metadata": {
        "trusted": true
      },
      "cell_type": "code",
      "source": "print(a2)",
      "execution_count": null,
      "outputs": []
    },
    {
      "metadata": {},
      "cell_type": "markdown",
      "source": "### Exercise:"
    },
    {
      "metadata": {
        "trusted": true
      },
      "cell_type": "code",
      "source": "# Now try reversing the column and row order of a2_sub\n# Does a2 look the way you expected it would\n# after that manipulation?\n",
      "execution_count": null,
      "outputs": []
    },
    {
      "metadata": {},
      "cell_type": "markdown",
      "source": "This behavior is actually really useful as we access and modify small parts of a large dataset in-memory."
    },
    {
      "metadata": {},
      "cell_type": "markdown",
      "source": "#### Copying arrays\n"
    },
    {
      "metadata": {
        "trusted": true
      },
      "cell_type": "code",
      "source": "a2_sub_copy = a2[:2, :2].copy()\nprint(a2_sub_copy)",
      "execution_count": null,
      "outputs": []
    },
    {
      "metadata": {
        "trusted": true
      },
      "cell_type": "code",
      "source": "a2_sub_copy[0, 0] = 42\nprint(a2_sub_copy)",
      "execution_count": null,
      "outputs": []
    },
    {
      "metadata": {
        "trusted": true
      },
      "cell_type": "code",
      "source": "print(a2)",
      "execution_count": null,
      "outputs": []
    },
    {
      "metadata": {},
      "cell_type": "markdown",
      "source": "### Joining and splitting arrays"
    },
    {
      "metadata": {},
      "cell_type": "markdown",
      "source": "Another common data-manipulation need in data science is combining multiple datasets; learning first how to do this with NumPy arrays will help you in the next section when we do this with more complex data structures. You will many times also need to split a single array into multiple arrays."
    },
    {
      "metadata": {},
      "cell_type": "markdown",
      "source": "#### Joining arrays"
    },
    {
      "metadata": {},
      "cell_type": "markdown",
      "source": "To join arrays in NumPy, you will most often use `np.concatenate`, which is the method we will cover here. If you find yourself in the future needing to specifically join arrays in mixed dimensions (a rarer case), read the documentation on `np.vstack`, `np.hstack`, and `np.dstack`."
    },
    {
      "metadata": {
        "trusted": true
      },
      "cell_type": "code",
      "source": "a = np.array([1, 2, 3])\nb = np.array([3, 2, 1])\nnp.concatenate([a, b])",
      "execution_count": null,
      "outputs": []
    },
    {
      "metadata": {
        "trusted": true
      },
      "cell_type": "code",
      "source": "c = [99, 99, 99]\nprint(np.concatenate([a, b, c]))",
      "execution_count": null,
      "outputs": []
    },
    {
      "metadata": {
        "trusted": true
      },
      "cell_type": "code",
      "source": "grid = np.array([[1, 2, 3],\n                 [4, 5, 6]])\ngrid",
      "execution_count": null,
      "outputs": []
    },
    {
      "metadata": {},
      "cell_type": "markdown",
      "source": "**Think, Pair, Share**"
    },
    {
      "metadata": {
        "trusted": true
      },
      "cell_type": "code",
      "source": "np.concatenate([grid, grid])\n",
      "execution_count": null,
      "outputs": []
    },
    {
      "metadata": {},
      "cell_type": "markdown",
      "source": "#### Splitting arrays"
    },
    {
      "metadata": {},
      "cell_type": "markdown",
      "source": "In order to split arrays into multiple smaller arrays, you can use the functions ``np.split``, ``np.hsplit``, ``np.vsplit``, and ``np.dsplit``.  As above, we will only cover the most commonly used function (`np.split`) in this course."
    },
    {
      "metadata": {},
      "cell_type": "markdown",
      "source": "**Think, Pair, Share**"
    },
    {
      "metadata": {
        "trusted": true
      },
      "cell_type": "code",
      "source": "a = [1, 2, 3, 99, 99, 3, 2, 1]\na1, a2, a3 = np.split(a, [3, 5])\nprint(a1, a2, a3)",
      "execution_count": null,
      "outputs": []
    },
    {
      "metadata": {},
      "cell_type": "markdown",
      "source": "Notice that *N* split-points produces to *N + 1* subarrays. In this case it has formed the subarray `a2` with `a[3]` and `a[4]` (the element just before position 5 [remember how Python indexing goes], the second input in the tuple) as elements. `a1` and `a3` pick up the leftover portions from the original array `a`."
    },
    {
      "metadata": {},
      "cell_type": "markdown",
      "source": "> **Takeaway:** Manipulating datasets is a fundamental part of preparing data for analysis. The skills you learned and practiced here will form building blocks for the most sophisticated data-manipulation you will learn in later sections in this course."
    },
    {
      "metadata": {},
      "cell_type": "markdown",
      "source": "## Sorting arrays"
    },
    {
      "metadata": {},
      "cell_type": "markdown",
      "source": "So far we have just worried about accessing and modifying NumPy arrays. Another huge thing you will need to do as a data scientist is sort array data. Sorting is often an important means of teasing out the structure in data (such as outlying data points).\n\nAlthough you could use Python's built-in `sort` and `sorted` functions, they will not work nearly as efficiently as NumPy's `np.sort` function.\n\n`np.sort` returns a sorted version of an array without modifying the input:"
    },
    {
      "metadata": {
        "trusted": true
      },
      "cell_type": "code",
      "source": "a = np.array([2, 1, 4, 3, 5])\nnp.sort(a)",
      "execution_count": null,
      "outputs": []
    },
    {
      "metadata": {
        "trusted": true
      },
      "cell_type": "code",
      "source": "print(a)",
      "execution_count": null,
      "outputs": []
    },
    {
      "metadata": {
        "trusted": true
      },
      "cell_type": "code",
      "source": "a.sort()\nprint(a)",
      "execution_count": null,
      "outputs": []
    },
    {
      "metadata": {},
      "cell_type": "markdown",
      "source": "### Sorting along rows or columns"
    },
    {
      "metadata": {},
      "cell_type": "markdown",
      "source": "A useful feature of NumPy's sorting algorithms is the ability to sort along specific rows or columns of a multidimensional array using the `axis` argument. For example:"
    },
    {
      "metadata": {
        "trusted": true
      },
      "cell_type": "code",
      "source": "rand = np.random.RandomState(42)\ntable = rand.randint(0, 10, (4, 6))\nprint(table)",
      "execution_count": null,
      "outputs": []
    },
    {
      "metadata": {
        "trusted": true
      },
      "cell_type": "code",
      "source": "np.sort(table, axis=0)",
      "execution_count": null,
      "outputs": []
    },
    {
      "metadata": {
        "trusted": true
      },
      "cell_type": "code",
      "source": "np.sort(table, axis=1)",
      "execution_count": null,
      "outputs": []
    },
    {
      "metadata": {},
      "cell_type": "markdown",
      "source": "Bear in mind that this treats each row or column as an independent array; any relationships between the row or column values will be lost doing this kind of sorting."
    },
    {
      "metadata": {},
      "cell_type": "markdown",
      "source": "## NumPy vs Python built-in functions"
    },
    {
      "metadata": {},
      "cell_type": "markdown",
      "source": "> **Learning goal:** By the end of this subsection, you should have a basic understanding of what NumPy universal functions are and how (and why) to use them.\n"
    },
    {
      "metadata": {},
      "cell_type": "markdown",
      "source": "Some of the properties that make Python great to work with for data science (its dynamic, interpreted nature, for example) can also make it slow. This is particularly true with looping. These small performance hits can add up to minutes (or longer) when dealing with truly huge datasets."
    },
    {
      "metadata": {},
      "cell_type": "markdown",
      "source": "The performance bottleneck is not the operations themselves, but the type-checking and function dispatches that Python performs on each cycle of a loop. \n\nEach time Python does a calculation, it first examines the object's type and does a dynamic lookup of the correct function to use for that type. Such is life with interpreted code. \n\nHowever, you may remember that NumPy is actually implemented in C - a compiled language! We can get the best of both worlds by using NumPy universal functions."
    },
    {
      "metadata": {},
      "cell_type": "markdown",
      "source": "**Array arithmetic**"
    },
    {
      "metadata": {},
      "cell_type": "markdown",
      "source": "Many NumPy ufuncs use Python's native arithmetic operators, so you can use the standard addition, subtraction, multiplication, and division operators that we covered in Section 1:"
    },
    {
      "metadata": {
        "trusted": true
      },
      "cell_type": "code",
      "source": "a = np.arange(4)\n\nprint(\"a     =\", a)\nprint(\"a + 5 =\", a + 5)\nprint(\"a - 5 =\", a - 5)\nprint(\"a * 2 =\", a * 2)\nprint(\"a / 2 =\", a / 2)\nprint(\"a // 2 =\", a // 2)  # floor division",
      "execution_count": null,
      "outputs": []
    },
    {
      "metadata": {},
      "cell_type": "markdown",
      "source": "There are also ufuncs for negation, exponentiation, and the modulo operation:"
    },
    {
      "metadata": {
        "trusted": true
      },
      "cell_type": "code",
      "source": "print(\"-a     = \", -a)\nprint(\"a ** 2 = \", a ** 2)\nprint(\"a % 2  = \", a % 2)",
      "execution_count": null,
      "outputs": []
    },
    {
      "metadata": {},
      "cell_type": "markdown",
      "source": "Even though it looks like we're just using normal python operations - we are using the ufuncs. They are written as *wrappers* around the normal NumPy functions. \n\nFor example, the `+` operator is actually a wrapper for the `add` function:"
    },
    {
      "metadata": {
        "trusted": true
      },
      "cell_type": "code",
      "source": "np.add(a, 2)",
      "execution_count": null,
      "outputs": []
    },
    {
      "metadata": {},
      "cell_type": "markdown",
      "source": "Here's a cheat sheet for the equivalencies between Python operators and NumPy ufuncs:\n\n| Operator\t    | Equivalent ufunc    | Description                           |\n|:--------------|:--------------------|:--------------------------------------|\n|``+``          |``np.add``           |Addition (e.g., ``1 + 1 = 2``)         |\n|``-``          |``np.subtract``      |Subtraction (e.g., ``3 - 2 = 1``)      |\n|``-``          |``np.negative``      |Unary negation (e.g., ``-2``)          |\n|``*``          |``np.multiply``      |Multiplication (e.g., ``2 * 3 = 6``)   |\n|``/``          |``np.divide``        |Division (e.g., ``3 / 2 = 1.5``)       |\n|``//``         |``np.floor_divide``  |Floor division (e.g., ``3 // 2 = 1``)  |\n|``**``         |``np.power``         |Exponentiation (e.g., ``2 ** 3 = 8``)  |\n|``%``          |``np.mod``           |Modulus/remainder (e.g., ``9 % 4 = 1``)|"
    },
    {
      "metadata": {},
      "cell_type": "markdown",
      "source": "#### Exponents and logarithms"
    },
    {
      "metadata": {
        "trusted": true
      },
      "cell_type": "code",
      "source": "a = [1, 2, 3]\nprint(\"a     =\", a)\nprint(\"e^a   =\", np.exp(a))\nprint(\"2^a   =\", np.exp2(a))\nprint(\"3^a   =\", np.power(3, a))",
      "execution_count": null,
      "outputs": []
    },
    {
      "metadata": {
        "trusted": true
      },
      "cell_type": "code",
      "source": "a = [1, 2, 4, 10]\nprint(\"a        =\", a)\nprint(\"ln(a)    =\", np.log(a))\nprint(\"log2(a)  =\", np.log2(a))\nprint(\"log10(a) =\", np.log10(a))",
      "execution_count": null,
      "outputs": []
    },
    {
      "metadata": {},
      "cell_type": "markdown",
      "source": "There are very special versions of these ufuncs written to help maintain precision. \nThese functions give more precise values than if you were to use the raw `np.log` or `np.exp` on very small values of `a`."
    },
    {
      "metadata": {
        "trusted": true
      },
      "cell_type": "code",
      "source": "a = [0, 0.001, 0.01, 0.1]\nprint(\"exp(a) - 1 =\", np.expm1(a))\nprint(\"log(1 + a) =\", np.log1p(a))",
      "execution_count": null,
      "outputs": []
    },
    {
      "metadata": {},
      "cell_type": "markdown",
      "source": "#### Specialized ufuncs"
    },
    {
      "metadata": {},
      "cell_type": "markdown",
      "source": "NumPy has many other ufuncs. Another source for specialized and obscure ufuncs is the submodule `scipy.special`. If you need to compute some specialized mathematical or statistical function on your data, chances are it is implemented in `scipy.special`."
    },
    {
      "metadata": {
        "trusted": true
      },
      "cell_type": "code",
      "source": "from scipy import special",
      "execution_count": null,
      "outputs": []
    },
    {
      "metadata": {
        "trusted": true
      },
      "cell_type": "code",
      "source": "# Gamma functions (generalized factorials) and related functions\na = [1, 5, 10]\nprint(\"gamma(a)     =\", special.gamma(a))\nprint(\"ln|gamma(a)| =\", special.gammaln(a))\nprint(\"beta(a, 2)   =\", special.beta(a, 2))",
      "execution_count": null,
      "outputs": []
    },
    {
      "metadata": {},
      "cell_type": "markdown",
      "source": "> **Takeaway:** Universal functions in NumPy provide you with computational functions that are faster than regular Python functions, particularly when working on large datasets that are common in data science. This speed is important because it can make you more efficient as a data scientist and it makes a broader range of inquiries into your data tractable in terms of time and computational resources."
    },
    {
      "metadata": {},
      "cell_type": "markdown",
      "source": "## Aggregations\n\n> **Learning goal:** By the end of this subsection, you should be comfortable aggregating data in NumPy."
    },
    {
      "metadata": {},
      "cell_type": "markdown",
      "source": "One of the first things you will find yourself doing with most datasets is computing the summary statistics for the data in order to get a general overview of your data before exploring it further. These summary statistics include the mean and standard deviation, in addition to other aggregates, such as the sum, product, median, minimum and maximum, or quantiles of the data.\n\nNumPy has fast built-in aggregation functions for working on arrays that are the subject of this sub-section."
    },
    {
      "metadata": {},
      "cell_type": "markdown",
      "source": "### Summing the values of an array"
    },
    {
      "metadata": {
        "trusted": true
      },
      "cell_type": "code",
      "source": "myList = np.random.random(100)\nnp.sum(myList)",
      "execution_count": null,
      "outputs": []
    },
    {
      "metadata": {},
      "cell_type": "markdown",
      "source": "**NumPy vs Python Functions**"
    },
    {
      "metadata": {
        "trusted": true
      },
      "cell_type": "code",
      "source": "large_array = np.random.rand(1000000)\n%timeit sum(large_array)\n%timeit np.sum(large_array)",
      "execution_count": null,
      "outputs": []
    },
    {
      "metadata": {},
      "cell_type": "markdown",
      "source": "Be aware that even though built-in Python functions and NumPy ufuncs may seem similar, they frequenty have different optional arguments, with different orders, and meanings.\n\nIn most situations, the NumPy functions will perform better."
    },
    {
      "metadata": {},
      "cell_type": "markdown",
      "source": "### Minimum and maximum"
    },
    {
      "metadata": {
        "trusted": true
      },
      "cell_type": "code",
      "source": "np.min(large_array), np.max(large_array)",
      "execution_count": null,
      "outputs": []
    },
    {
      "metadata": {
        "trusted": true
      },
      "cell_type": "code",
      "source": "print(large_array.min(), large_array.max(), large_array.sum())",
      "execution_count": null,
      "outputs": []
    },
    {
      "metadata": {},
      "cell_type": "markdown",
      "source": "### Other aggregation functions\n\nThe table below lists other aggregation functions in NumPy. Most NumPy aggregates have a '`NaN`-safe' version, which computes the result while ignoring missing values marked by the `NaN` value.\n\n|Function Name      |   NaN-safe Version  | Description                                   |\n|:------------------|:--------------------|:----------------------------------------------|\n| ``np.sum``        | ``np.nansum``       | Compute sum of elements                       |\n| ``np.prod``       | ``np.nanprod``      | Compute product of elements                   |\n| ``np.mean``       | ``np.nanmean``      | Compute mean of elements                      |\n| ``np.std``        | ``np.nanstd``       | Compute standard deviation                    |\n| ``np.var``        | ``np.nanvar``       | Compute variance                              |\n| ``np.min``        | ``np.nanmin``       | Find minimum value                            |\n| ``np.max``        | ``np.nanmax``       | Find maximum value                            |\n| ``np.argmin``     | ``np.nanargmin``    | Find index of minimum value                   |\n| ``np.argmax``     | ``np.nanargmax``    | Find index of maximum value                   |\n| ``np.median``     | ``np.nanmedian``    | Compute median of elements                    |\n| ``np.percentile`` | ``np.nanpercentile``| Compute rank-based statistics of elements     |\n| ``np.any``        | N/A                 | Evaluate whether any elements are true        |\n| ``np.all``        | N/A                 | Evaluate whether all elements are true        |\n\nWe will see these aggregates often throughout the rest of the course."
    },
    {
      "metadata": {},
      "cell_type": "markdown",
      "source": "> **Takeaway:** Aggregation is the primary means you will use to explore you data, not just when using NumPy, but particularly in conjunction with pandas, the Python library you will learn about in the next section, which builds off of NumPy and thus off of everything you have learned thus far."
    },
    {
      "metadata": {},
      "cell_type": "markdown",
      "source": "## Computation on arrays with broadcasting\n\n> **Learning goal:** By the end of this subsection, you should have a basic understanding of how broadcasting works in NumPy (and why NumPy uses it)."
    },
    {
      "metadata": {},
      "cell_type": "markdown",
      "source": "Another means of speeding upoperations is to use NumPy's *broadcasting* functionality: creating rules for applying binary ufuncs like addition, subtraction, or multiplication on arrays of different sizes.\n\nBefore, when we performed binary operations on arrays of the same size, those operations were performed on an element-by-element basis."
    },
    {
      "metadata": {
        "trusted": true
      },
      "cell_type": "code",
      "source": "first_array = np.array([3, 6, 8, 1])\nsecond_array = np.array([4, 5, 7, 2])\nfirst_array + second_array",
      "execution_count": null,
      "outputs": []
    },
    {
      "metadata": {},
      "cell_type": "markdown",
      "source": "Broadcasting enables you to perform these types of binary operations on arrays of different sizes. Thus, you could just as easily add a scalar (which is really just a zero-dimensional array) to an array:"
    },
    {
      "metadata": {
        "trusted": true
      },
      "cell_type": "code",
      "source": "first_array + 5",
      "execution_count": null,
      "outputs": []
    },
    {
      "metadata": {},
      "cell_type": "markdown",
      "source": "Similarly, you can add a one-dimensional array to a two-dimensional array:"
    },
    {
      "metadata": {
        "trusted": true
      },
      "cell_type": "code",
      "source": "one_dim_array = np.ones((1))\none_dim_array",
      "execution_count": null,
      "outputs": []
    },
    {
      "metadata": {
        "trusted": true
      },
      "cell_type": "code",
      "source": "two_dim_array = np.ones((2, 2))\ntwo_dim_array",
      "execution_count": null,
      "outputs": []
    },
    {
      "metadata": {
        "trusted": true
      },
      "cell_type": "code",
      "source": "one_dim_array + two_dim_array",
      "execution_count": null,
      "outputs": []
    },
    {
      "metadata": {},
      "cell_type": "markdown",
      "source": "> **Takeaway:** The data you will work with in data science invariably comes in different shapes and sizes (at least in terms of the arrays in which you work with that data). The broadcasting functionality in NumPy enables you to use binary functions on irregularly fitting data in a predictable way."
    },
    {
      "metadata": {},
      "cell_type": "markdown",
      "source": "## Comparisons, masks, and Boolean logic in NumPy\n\n> **Learning goal:** By the end of this subsection, you should be comfortable with and understand how to use Boolean masking in NumPy in order to answer basic questions about your data."
    },
    {
      "metadata": {},
      "cell_type": "markdown",
      "source": "*Masking* is when you want to manipulate or count or extract values in an array based on a criterion. For example, counting all the values in an array greater than a certain value is an example of masking. \n\nBoolean masking is often the most efficient way to accomplish these types of tasks in NumPy and it plays a large part in cleaning and otherwise preparing data for analysis (see Section 5)."
    },
    {
      "metadata": {},
      "cell_type": "markdown",
      "source": "### Example: Counting Rainy Days\n\nLet's see masking in practice by examining the monthly rainfall statistics for Seattle. The data is in a CSV file from data.gov. To load the data, we will use pandas, which we will formally introduce in Section 4."
    },
    {
      "metadata": {
        "scrolled": true,
        "trusted": true
      },
      "cell_type": "code",
      "source": "import numpy as np\nimport pandas as pd\n\n# Use pandas to extract rainfall as a NumPy array\nrainfall_2003 = pd.read_csv(\n    'Data/Observed_Monthly_Rain_Gauge_Accumulations_-_Oct_2002_to_May_2017.csv')\\\n    ['RG01'][2:14].values\nrainfall_2003",
      "execution_count": null,
      "outputs": []
    },
    {
      "metadata": {},
      "cell_type": "markdown",
      "source": "That was a little much for what we've seen so far. Let's break it down.\n\nThe rainfall data contains monthly rainfall totals from several rain gauges around the city of Seattle; we selected the first one.\n\nFrom that gauge, we then selected the relevant months for the first full calendar year in the dataset, 2003. That range of months started at the third row of the CSV file (remember, Python zero-indexes!) and ran through the thirteenth row, hence `2:14]`.\n\nYou now have an array containing 12 values, each of which records the monthly rainfall in inches from January to December 2003."
    },
    {
      "metadata": {},
      "cell_type": "markdown",
      "source": "Bar charts are an easy way to get an early feel for data."
    },
    {
      "metadata": {
        "trusted": true
      },
      "cell_type": "code",
      "source": "%matplotlib inline\nimport matplotlib.pyplot as plt",
      "execution_count": null,
      "outputs": []
    },
    {
      "metadata": {
        "trusted": true
      },
      "cell_type": "code",
      "source": "plt.bar(np.arange(1, len(rainfall_2003) + 1), rainfall_2003)",
      "execution_count": null,
      "outputs": []
    },
    {
      "metadata": {},
      "cell_type": "markdown",
      "source": "Again, breaking down that dense line, we passed two parameters to the bar function in pyplot: \n1. defining the index for the x-axis \n1. second defining the data to use for the bars (the y-axis). \n\nTo create the index, we use the NumPy function `arange` to create a sequence of numbers. We know that the length of our array is 12, but it can be a good habit to get into to programmatically pass the length of an array in case it changes or you don’t know it with specificity. \n\nWe also added 1 to both the start and the end of the `arange` to accommodate for Python zero-indexing (because there is no “month-zero” in the calendar)."
    },
    {
      "metadata": {},
      "cell_type": "markdown",
      "source": "What do you think about the weather in Seattle? How does this compare to Sydney?\n\nThere are still several questions we would like to answer, such as in how many months did it rain, or what was the average precipitation in those months?"
    },
    {
      "metadata": {},
      "cell_type": "markdown",
      "source": "### Boolean operators"
    },
    {
      "metadata": {},
      "cell_type": "markdown",
      "source": "How do we find out all months with rain less than 1 inch and greater than .5 inch? \n\nThis is accomplished through Python's *bitwise logic operators*, `&`, `|`, `^`, and `~`. Like with the standard arithmetic operators, NumPy overloads these as ufuncs which work element-wise on (usually Boolean) arrays.\n\nFor example, we can address this sort of compound question as follows:"
    },
    {
      "metadata": {
        "trusted": true
      },
      "cell_type": "code",
      "source": "np.sum((rainfall_2003 > 0.5) & (rainfall_2003 < 1))",
      "execution_count": null,
      "outputs": []
    },
    {
      "metadata": {},
      "cell_type": "markdown",
      "source": "Note that the parentheses here are very important!"
    },
    {
      "metadata": {},
      "cell_type": "markdown",
      "source": "#### Exercise"
    },
    {
      "metadata": {
        "trusted": true
      },
      "cell_type": "code",
      "source": "# Fill in the expressions that correctly calculate the below:\nprint(\n    \"Number of months with less than 4 inches of rain and more than 1 inch: \",\n    np.sum((rainfall_2003 > 0.5) & (rainfall_2003 < 1)))\n#print(\"Number of months without rain: \", np.sum(...)\n#print(\"Number of months with rain:    \", np.sum(...)\n#print(\"Months with more than 1 inch:  \", np.sum(...)\n#print(\"Rainy months with < 1 inch:    \", np.sum(...)",
      "execution_count": null,
      "outputs": []
    },
    {
      "metadata": {},
      "cell_type": "markdown",
      "source": "## Boolean arrays as masks"
    },
    {
      "metadata": {},
      "cell_type": "markdown",
      "source": "In the prior section, we looked at aggregates computed directly on Boolean arrays.\nA more powerful pattern is to use Boolean arrays as masks, to select particular subsets of the data themselves.\n\nSuppose we want an array of all values in a 2D array that are less than 5:"
    },
    {
      "metadata": {
        "trusted": true
      },
      "cell_type": "code",
      "source": "rand = np.random.RandomState(0)\ntwo_dim_array = rand.randint(10, size=(3, 4))\ntwo_dim_array",
      "execution_count": null,
      "outputs": []
    },
    {
      "metadata": {
        "trusted": true
      },
      "cell_type": "code",
      "source": "two_dim_array < 5",
      "execution_count": null,
      "outputs": []
    },
    {
      "metadata": {},
      "cell_type": "markdown",
      "source": "This creates a boolean \"mask\" that we can then apply to our array:"
    },
    {
      "metadata": {},
      "cell_type": "markdown",
      "source": "**Masking**"
    },
    {
      "metadata": {
        "trusted": true
      },
      "cell_type": "code",
      "source": "two_dim_array[two_dim_array < 5]",
      "execution_count": null,
      "outputs": []
    },
    {
      "metadata": {
        "trusted": true
      },
      "cell_type": "code",
      "source": "# Construct a mask of all rainy months\nrainy = (rainfall_2003 > 0)\n\n# Construct a mask of all summer months (June through September)\nmonths = np.arange(1, 13)\nsummer = (months > 5) & (months < 10)\n\nprint(\"Median precip in rainy months in 2003 (inches):   \", \n      np.median(rainfall_2003[rainy]))\nprint(\"Median precip in summer months in 2003 (inches):  \", \n      np.median(rainfall_2003[summer]))\nprint(\"Maximum precip in summer months in 2003 (inches): \", \n      np.max(rainfall_2003[summer]))\nprint(\"Median precip in non-summer rainy months (inches):\", \n      np.median(rainfall_2003[rainy & ~summer]))",
      "execution_count": null,
      "outputs": []
    },
    {
      "metadata": {},
      "cell_type": "markdown",
      "source": "> **Takeaway:** By combining Boolean operations, masking operations, and aggregates, you can quickly answer questions similar to those we posed about the Seattle rainfall data about any dataset. Operations like these will form the basis for the data exploration and preparation for analysis that will by our primary concerns in Sections 4 and 5."
    },
    {
      "metadata": {
        "trusted": true
      },
      "cell_type": "code",
      "source": "",
      "execution_count": null,
      "outputs": []
    }
  ],
  "metadata": {
    "anaconda-cloud": {},
    "kernelspec": {
      "name": "python3",
      "display_name": "Python 3",
      "language": "python"
    },
    "language_info": {
      "mimetype": "text/x-python",
      "nbconvert_exporter": "python",
      "name": "python",
      "file_extension": ".py",
      "version": "3.5.4",
      "pygments_lexer": "ipython3",
      "codemirror_mode": {
        "version": 3,
        "name": "ipython"
      }
    }
  },
  "nbformat": 4,
  "nbformat_minor": 1
}