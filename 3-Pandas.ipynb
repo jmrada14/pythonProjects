{
  "cells": [
    {
      "metadata": {},
      "cell_type": "markdown",
      "source": "# Introduction to Pandas"
    },
    {
      "metadata": {},
      "cell_type": "markdown",
      "source": "Having explored NumPy, it is time to get to know the other workhorse of data science in Python: pandas. The pandas library in Python really does a lot to make working with data--and importing, cleaning, and organizing it--so much easier that it is hard to imagine doing data science in Python without it.\n\nBut it was not always this way. Wes McKinney developed the library out of necessity in 2008 while at AQR Capital Management in order to have a better tool for dealing with data analysis. The library has since taken off as an open-source software project that has become a mature and integral part of the data science ecosystem. \n\nThe name 'pandas' actually has nothing to do with Chinese bears but rather comes from the term *panel data*, a form of multi-dimensional data involving measurements over time that comes out the econometrics and statistics community. Ironically, while panel data is a usable data structure in pandas, it is not generally used today and we will not examine it in this course. Instead, we will focus on the two most widely used data structures in pandas: `Series` and `DataFrame`s."
    },
    {
      "metadata": {
        "trusted": true
      },
      "cell_type": "code",
      "source": "import pandas as pd",
      "execution_count": null,
      "outputs": []
    },
    {
      "metadata": {
        "trusted": true
      },
      "cell_type": "code",
      "source": "import numpy as np",
      "execution_count": null,
      "outputs": []
    },
    {
      "metadata": {
        "trusted": true
      },
      "cell_type": "code",
      "source": "pd?",
      "execution_count": null,
      "outputs": []
    },
    {
      "metadata": {},
      "cell_type": "markdown",
      "source": "## Fundamental panda data structures"
    },
    {
      "metadata": {},
      "cell_type": "markdown",
      "source": "Both `Series` and `DataFrame` are a lot like the `ndarray` you encountered last section. They provide clean, efficent data storage and handling at the scale necessary for data science. \n\nWhat both of them provide that `ndarray`s lack, however, are essential data-science features like flexibility when dealing with missing data and the ability to label data. \n\nThese capabilities (along with others) help make `Series` and `DataFrame` essential to the \"data munging\" that make up so much of data science."
    },
    {
      "metadata": {},
      "cell_type": "markdown",
      "source": "### `Series` objects in pandas"
    },
    {
      "metadata": {},
      "cell_type": "markdown",
      "source": "A pandas `Series` is a lot like an `ndarray` in NumPy: a one-dimensional array of indexed data."
    },
    {
      "metadata": {
        "trusted": true
      },
      "cell_type": "code",
      "source": "series_example = pd.Series([-0.5, 0.75, 1.0, -2])\nseries_example",
      "execution_count": null,
      "outputs": []
    },
    {
      "metadata": {},
      "cell_type": "markdown",
      "source": "Again, we see that `Series` has upcast the values to all be of the same type."
    },
    {
      "metadata": {},
      "cell_type": "markdown",
      "source": "The difference, is that `Series` has also wrapped the values into a sequence with indices:"
    },
    {
      "metadata": {
        "trusted": true
      },
      "cell_type": "code",
      "source": "series_example.values",
      "execution_count": null,
      "outputs": []
    },
    {
      "metadata": {
        "trusted": true
      },
      "cell_type": "code",
      "source": "series_example.index",
      "execution_count": null,
      "outputs": []
    },
    {
      "metadata": {},
      "cell_type": "markdown",
      "source": "Again, it's easy to access the values via indexing:"
    },
    {
      "metadata": {
        "trusted": true
      },
      "cell_type": "code",
      "source": "series_example[1]",
      "execution_count": null,
      "outputs": []
    },
    {
      "metadata": {
        "trusted": true
      },
      "cell_type": "code",
      "source": "series_example[1:3]",
      "execution_count": null,
      "outputs": []
    },
    {
      "metadata": {},
      "cell_type": "markdown",
      "source": "### Explicit Indices"
    },
    {
      "metadata": {},
      "cell_type": "markdown",
      "source": "Despite a lot of similarities, pandas `Series` have an important distinction from NumPy `ndarrays`: whereas `ndarrays` have  *implicitly defined* integer indices (as do Python lists), pandas `Series` have *explicitly defined* indices. The best part is that you can set the index:"
    },
    {
      "metadata": {
        "trusted": true
      },
      "cell_type": "code",
      "source": "series_example2 = pd.Series([-0.5, 0.75, 1.0, -2], index=['a', 'b', 'c', 'd'])\nseries_example2",
      "execution_count": null,
      "outputs": []
    },
    {
      "metadata": {},
      "cell_type": "markdown",
      "source": "**Share**"
    },
    {
      "metadata": {
        "trusted": true
      },
      "cell_type": "code",
      "source": "series_example2['b']",
      "execution_count": null,
      "outputs": []
    },
    {
      "metadata": {},
      "cell_type": "markdown",
      "source": "### Series vs Dictionary"
    },
    {
      "metadata": {},
      "cell_type": "markdown",
      "source": "Thus, a `Series` is basically a fixed-length, ordered dictionary in that it maps arbitrary typed index values to arbitrary typed data values. But like `ndarray`s these data are all of the same type, which is important. Just as the type-specific compiled code behind `ndarray` makes them more efficient than a Python lists for certain operations, the type information of pandas ``Series`` makes them much more efficient than Python dictionaries for certain operations.\n\nBut the connection between `Series` and dictionaries is nevertheless very real: you can construct a ``Series`` object directly from a Python dictionary:"
    },
    {
      "metadata": {},
      "cell_type": "markdown",
      "source": "**Think, Pair, Share** "
    },
    {
      "metadata": {
        "trusted": true
      },
      "cell_type": "code",
      "source": "population_dict = {'France': 65429495,\n                   'Germany': 82408706,\n                   'Russia': 143910127,\n                   'Japan': 126922333}\npopulation_dict",
      "execution_count": null,
      "outputs": []
    },
    {
      "metadata": {
        "trusted": true
      },
      "cell_type": "code",
      "source": "population = pd.Series(population_dict)\npopulation",
      "execution_count": null,
      "outputs": []
    },
    {
      "metadata": {},
      "cell_type": "markdown",
      "source": "Notice a subtle difference: The order of the key/value pairs changed when we created a `Series` out of them.\n\nThis is because `Series` objects are ordered while Python dictionaries have no order."
    },
    {
      "metadata": {},
      "cell_type": "markdown",
      "source": "### Interacting with Series"
    },
    {
      "metadata": {
        "trusted": true
      },
      "cell_type": "code",
      "source": "population['Russia']",
      "execution_count": null,
      "outputs": []
    },
    {
      "metadata": {},
      "cell_type": "markdown",
      "source": "### Exercise"
    },
    {
      "metadata": {
        "trusted": true
      },
      "cell_type": "code",
      "source": "# Try slicing on the population Series on your own.\n# Would slicing be possible if Series keys were not ordered?\npopulation['Germany':'Russia']",
      "execution_count": null,
      "outputs": []
    },
    {
      "metadata": {
        "trusted": true
      },
      "cell_type": "code",
      "source": "# Try running population['Albania'] = 2937590 (or another country of your choice)\n# What order do the keys appear in when you run population? Is it what you expected?\n\npopulation['Albania'] = 2937590\npopulation",
      "execution_count": null,
      "outputs": []
    },
    {
      "metadata": {},
      "cell_type": "markdown",
      "source": "Anoter useful `Series` feature (and definitely a difference from dictionaries) is that `Series` automatically aligns differently indexed data in arithmetic operations:"
    },
    {
      "metadata": {
        "trusted": true
      },
      "cell_type": "code",
      "source": "pop2 = pd.Series({'Spain': 46432074, 'France': 102321, 'Albania': 50532})\npopulation + pop2",
      "execution_count": null,
      "outputs": []
    },
    {
      "metadata": {},
      "cell_type": "markdown",
      "source": "### `DataFrame` object in pandas"
    },
    {
      "metadata": {},
      "cell_type": "markdown",
      "source": "The other crucial data structure in pandas to get to know for data science is the `DataFrame`.\nLike the ``Series`` object, ``DataFrame``s can be thought of either as generalizations of `ndarray`s (or as specializations of Python dictionaries).\n\nJust as a ``Series`` is like a one-dimensional array with flexible indices, a ``DataFrame`` is like a two-dimensional array with both flexible row indices and flexible column names. Essentially, a `DataFrame` represents a rectangular table of data and contains an ordered collection of labeled columns, each of which can be a different value type (`string`, `int`, `float`, etc.).\nThe DataFrame has both a row and column index; in this way you can think of it as a dictionary of `Series`, all of which share the same index.\n\nLet's take a look at how this works in practice. We will start by creating a `Series` called `area`:"
    },
    {
      "metadata": {
        "trusted": true
      },
      "cell_type": "code",
      "source": "area_dict = {'Albania': 28748,\n             'France': 643801,\n             'Germany': 357386,\n             'Japan': 377972,\n             'Russia': 17125200}\narea = pd.Series(area_dict)\narea",
      "execution_count": null,
      "outputs": []
    },
    {
      "metadata": {},
      "cell_type": "markdown",
      "source": "Now, let's combine that with the `population` `Series` we created earlier to create a `DataFrame` with two columns:"
    },
    {
      "metadata": {
        "trusted": true
      },
      "cell_type": "code",
      "source": "countries = pd.DataFrame({'Population': population, 'Area': area})\ncountries",
      "execution_count": null,
      "outputs": []
    },
    {
      "metadata": {},
      "cell_type": "markdown",
      "source": "Again, `DataFrame` automatically orders the indices - Area comes before Population."
    },
    {
      "metadata": {},
      "cell_type": "markdown",
      "source": "We can also add columns by defining a list and adding it:"
    },
    {
      "metadata": {
        "trusted": true
      },
      "cell_type": "code",
      "source": "countries['Capital'] = ['Tirana', 'Paris', 'Berlin', 'Tokyo', 'Moscow']\ncountries",
      "execution_count": null,
      "outputs": []
    },
    {
      "metadata": {},
      "cell_type": "markdown",
      "source": "We can also change the order of indices:"
    },
    {
      "metadata": {
        "trusted": true
      },
      "cell_type": "code",
      "source": "countries = countries[['Capital', 'Area', 'Population']]\ncountries",
      "execution_count": null,
      "outputs": []
    },
    {
      "metadata": {},
      "cell_type": "markdown",
      "source": "And add new columns of data:"
    },
    {
      "metadata": {
        "trusted": true
      },
      "cell_type": "code",
      "source": "countries['Population Density'] = countries['Population'] / countries['Area']\ncountries",
      "execution_count": null,
      "outputs": []
    },
    {
      "metadata": {},
      "cell_type": "markdown",
      "source": "Note: don't worry if IPython gives you a warning over this. The warning is IPython trying to be a little too helpful. The new column you created is an actual part of the `DataFrame` and not a copy of a slice."
    },
    {
      "metadata": {
        "trusted": true
      },
      "cell_type": "code",
      "source": "countries['Area']",
      "execution_count": null,
      "outputs": []
    },
    {
      "metadata": {},
      "cell_type": "markdown",
      "source": "All of these operations are very similar to what we can do to a `Series` because `DataFrame` columns behave like `Series`."
    },
    {
      "metadata": {},
      "cell_type": "markdown",
      "source": "### Exercise"
    },
    {
      "metadata": {
        "trusted": true
      },
      "cell_type": "code",
      "source": "# Now try accessing row data with a command like countries['Japan']\ncountries['Japan']",
      "execution_count": null,
      "outputs": []
    },
    {
      "metadata": {},
      "cell_type": "markdown",
      "source": "What happens?\n\nRemember that `DataFrame`s are dictionaries of `Series` (which are the columns). \n\n`DataFrame` rows often have heterogeneous data types, so different methods are necessary to access row data. \n\nFor that, we use the `.loc` method:"
    },
    {
      "metadata": {},
      "cell_type": "markdown",
      "source": "**Think, Pair, Share**"
    },
    {
      "metadata": {
        "trusted": true
      },
      "cell_type": "code",
      "source": "countries.loc['Japan']",
      "execution_count": null,
      "outputs": []
    },
    {
      "metadata": {},
      "cell_type": "markdown",
      "source": "**Share**"
    },
    {
      "metadata": {
        "trusted": true
      },
      "cell_type": "code",
      "source": "countries.loc['Japan']['Area']",
      "execution_count": null,
      "outputs": []
    },
    {
      "metadata": {},
      "cell_type": "markdown",
      "source": "### DataSeries Operations"
    },
    {
      "metadata": {},
      "cell_type": "markdown",
      "source": "Sometimes we would like to add a column to a `DataFrame` without assigning values just yet."
    },
    {
      "metadata": {
        "trusted": true
      },
      "cell_type": "code",
      "source": "countries['Debt-to-GDP Ratio'] = np.nan\ncountries",
      "execution_count": null,
      "outputs": []
    },
    {
      "metadata": {},
      "cell_type": "markdown",
      "source": "It's also possible to add columns to a `DataFrame` that have a different number of rows as the `DataFrame`:"
    },
    {
      "metadata": {
        "trusted": true
      },
      "cell_type": "code",
      "source": "debt = pd.Series([0.19, 2.36], index=['Russia', 'Japan'])\ncountries['Debt-to-GDP Ratio'] = debt\ncountries",
      "execution_count": null,
      "outputs": []
    },
    {
      "metadata": {},
      "cell_type": "markdown",
      "source": "You can use the `del` command to delete a column from a `DataFrame`:"
    },
    {
      "metadata": {
        "trusted": true
      },
      "cell_type": "code",
      "source": "del countries['Capital']\ncountries",
      "execution_count": null,
      "outputs": []
    },
    {
      "metadata": {},
      "cell_type": "markdown",
      "source": "In addition to their dictionary-like behavior, `DataFrames` also behave like two-dimensional arrays. For example, it can be useful at times when working with a `DataFrame` to transpose it:"
    },
    {
      "metadata": {
        "trusted": true
      },
      "cell_type": "code",
      "source": "countries.T",
      "execution_count": null,
      "outputs": []
    },
    {
      "metadata": {},
      "cell_type": "markdown",
      "source": "Notice we've updcast to floating-point numbers. \n\n**If there had been strings in this `DataFrame`, everything would have been upcast to strings.** \n\nUse caution when transposing `DataFrame`s!"
    },
    {
      "metadata": {},
      "cell_type": "markdown",
      "source": "We can also easily create a `DataFrame` from a 2D NumPy array with any specified column and index names.\nIf omitted, an integer index will be used for each:"
    },
    {
      "metadata": {
        "trusted": true
      },
      "cell_type": "code",
      "source": "pd.DataFrame(np.random.rand(3, 2),\n             columns=['foo', 'bar'],\n             index=['a', 'b', 'c'])",
      "execution_count": null,
      "outputs": []
    },
    {
      "metadata": {},
      "cell_type": "markdown",
      "source": "## Manipulating data in pandas"
    },
    {
      "metadata": {},
      "cell_type": "markdown",
      "source": "A huge part of data science is manipulating data in order to analyze it. (One rule of thumb is that 80% of any data science project will be concerned with cleaning and organizing the data for the project.) So it makes sense to learn the tools that pandas provides for handling data in `Series` and especially `DataFrame`s. \n\nBecause both of those data structures are ordered, let's first start by taking a closer look at what gives them their structure: the `Index`."
    },
    {
      "metadata": {},
      "cell_type": "markdown",
      "source": "### Index objects in pandas"
    },
    {
      "metadata": {},
      "cell_type": "markdown",
      "source": "The indices of `DataFrame`s and `Series` are actually objects themselves. The ``Index`` object can be thought of as an immutable array. "
    },
    {
      "metadata": {
        "trusted": true
      },
      "cell_type": "code",
      "source": "series_example = pd.Series([-0.5, 0.75, 1.0, -2], index=['a', 'b', 'c', 'd'])\nind = series_example.index\nind",
      "execution_count": null,
      "outputs": []
    },
    {
      "metadata": {},
      "cell_type": "markdown",
      "source": "`Index` works a lot like an array:"
    },
    {
      "metadata": {},
      "cell_type": "markdown",
      "source": "**Share**"
    },
    {
      "metadata": {
        "trusted": true
      },
      "cell_type": "code",
      "source": "ind[1]",
      "execution_count": null,
      "outputs": []
    },
    {
      "metadata": {},
      "cell_type": "markdown",
      "source": "**Share**"
    },
    {
      "metadata": {
        "trusted": true
      },
      "cell_type": "code",
      "source": "ind[::2]",
      "execution_count": null,
      "outputs": []
    },
    {
      "metadata": {},
      "cell_type": "markdown",
      "source": "**Think, Pair, Share**"
    },
    {
      "metadata": {
        "trusted": true
      },
      "cell_type": "code",
      "source": "ind[1] = 0",
      "execution_count": null,
      "outputs": []
    },
    {
      "metadata": {},
      "cell_type": "markdown",
      "source": "Did you know what would happen?\n\n`Index` immutability is a good thing: it makes it safer to share indices between multiple `Series` or `DataFrame`s without the potential for problems arising from inadvertent index modification."
    },
    {
      "metadata": {},
      "cell_type": "markdown",
      "source": "### Set Properties"
    },
    {
      "metadata": {},
      "cell_type": "markdown",
      "source": "In addition to being array-like, an `Index` also behaves like a fixed-size set, including following many of the conventions used by Python's built-in ``set`` data structure, so that unions, intersections, differences, and other combinations can be computed in a familiar way. Let's play around with this to see it in action."
    },
    {
      "metadata": {
        "trusted": true
      },
      "cell_type": "code",
      "source": "ind_odd = pd.Index([1, 3, 5, 7, 9])\nind_prime = pd.Index([2, 3, 5, 7, 11])",
      "execution_count": null,
      "outputs": []
    },
    {
      "metadata": {},
      "cell_type": "markdown",
      "source": "**Think, Pair, Share**  \nIn the code cell below, try out the intersection (`ind_odd & ind_prime`), union (`ind_odd | ind_prime`), and the symmetric difference (`ind_odd ^ ind_prime`) of `ind_odd` and `ind_prime`."
    },
    {
      "metadata": {},
      "cell_type": "markdown",
      "source": "There are also object methods for these various set properties:\n\n| **Method**     | **Description**                                                                           |\n|:---------------|:------------------------------------------------------------------------------------------|\n| [`append`](https://pandas.pydata.org/pandas-docs/stable/reference/api/pandas.DataFrame.append.html)       | Concatenate with additional `Index` objects, producing a new `Index`                      |\n| [`diff`](https://pandas.pydata.org/pandas-docs/stable/reference/api/pandas.DataFrame.diff.html)         | Compute set difference as an Index                                                        |\n| [`drop`](https://pandas.pydata.org/pandas-docs/stable/reference/api/pandas.DataFrame.drop.html)         | Compute new `Index` by deleting passed values                                             |\n| [`insert`](https://pandas.pydata.org/pandas-docs/stable/reference/api/pandas.DataFrame.insert.html)       | Compute new `Index` by inserting element at index `i`                                     |\n| [`is_monotonic`](https://pandas.pydata.org/pandas-docs/stable/reference/api/pandas.Series.is_monotonic.html) | Returns `True` if each element is greater than or equal to the previous element           |\n| [`is_unique`](https://pandas.pydata.org/pandas-docs/stable/reference/api/pandas.Series.is_unique.html)    | Returns `True` if the Index has no duplicate values                                       |\n| [`isin`](https://pandas.pydata.org/pandas-docs/stable/reference/api/pandas.DataFrame.isin.html)         | Compute boolean array indicating whether each value is contained in the passed collection |\n| [`unique`](https://pandas.pydata.org/pandas-docs/stable/reference/api/pandas.Series.unique.html)       | Compute the array of unique values in order of appearance                                         |"
    },
    {
      "metadata": {},
      "cell_type": "markdown",
      "source": "### Data Selection in Series"
    },
    {
      "metadata": {},
      "cell_type": "markdown",
      "source": "As a refresher, a ``Series`` object acts in many ways like both a one-dimensional `ndarray` and a standard Python dictionary.\n\nLike a dictionary, the ``Series`` object provides a mapping from a collection of arbitrary keys to a collection of arbitrary values."
    },
    {
      "metadata": {
        "trusted": true
      },
      "cell_type": "code",
      "source": "series_example2 = pd.Series([-0.5, 0.75, 1.0, -2], index=['a', 'b', 'c', 'd'])\nseries_example2",
      "execution_count": null,
      "outputs": []
    },
    {
      "metadata": {},
      "cell_type": "markdown",
      "source": "**Share**"
    },
    {
      "metadata": {
        "trusted": true
      },
      "cell_type": "code",
      "source": "series_example2['b']",
      "execution_count": null,
      "outputs": []
    },
    {
      "metadata": {},
      "cell_type": "markdown",
      "source": "**Share**"
    },
    {
      "metadata": {
        "trusted": true
      },
      "cell_type": "code",
      "source": "'a' in series_example2",
      "execution_count": null,
      "outputs": []
    },
    {
      "metadata": {},
      "cell_type": "markdown",
      "source": "**Share**"
    },
    {
      "metadata": {
        "trusted": true
      },
      "cell_type": "code",
      "source": "series_example2.keys()",
      "execution_count": null,
      "outputs": []
    },
    {
      "metadata": {},
      "cell_type": "markdown",
      "source": "**Share**"
    },
    {
      "metadata": {
        "trusted": true
      },
      "cell_type": "code",
      "source": "list(series_example2.items())",
      "execution_count": null,
      "outputs": []
    },
    {
      "metadata": {},
      "cell_type": "markdown",
      "source": "**Share**"
    },
    {
      "metadata": {
        "trusted": true
      },
      "cell_type": "code",
      "source": "series_example2['e'] = 1.25\nseries_example2",
      "execution_count": null,
      "outputs": []
    },
    {
      "metadata": {},
      "cell_type": "markdown",
      "source": "#### Series as one-dimensional array\n\nBecause ``Series`` also provide array-style functionality, you can use the NumPy techniques we looked at in Section 3 like slices and masking:"
    },
    {
      "metadata": {
        "trusted": true
      },
      "cell_type": "code",
      "source": "# Slicing using the explicit index\nseries_example2['a':'c']",
      "execution_count": null,
      "outputs": []
    },
    {
      "metadata": {
        "trusted": true
      },
      "cell_type": "code",
      "source": "# Slicing using the implicit integer index\nseries_example2[0:2]",
      "execution_count": null,
      "outputs": []
    },
    {
      "metadata": {
        "trusted": true
      },
      "cell_type": "code",
      "source": "# Masking\nseries_example2[(series_example2 > -1) & (series_example2 < 0.8)]",
      "execution_count": null,
      "outputs": []
    },
    {
      "metadata": {},
      "cell_type": "markdown",
      "source": "One confusing thing:\n\nWhen slicing with an explicit index (i.e., ``series_example2['a':'c']``), the final index is **included** in the slice; when slicing with an implicit index (i.e., ``series_example2[0:2]``), the final index is **excluded** from the slice."
    },
    {
      "metadata": {},
      "cell_type": "markdown",
      "source": "### Indexers: `loc` and `iloc`\n\n**Think, Pair, Share**"
    },
    {
      "metadata": {},
      "cell_type": "markdown",
      "source": "There are many ways to refer to your indices in pandas!\n\nIf you've created integer *explicit* indices, it's really easy to get mixed up with the *implicit* integer indices that pandas automatically creates for you.\n\nTo help avoid this confusion, pandas provides special *indexer* attributes that explicitly expose certain indexing schemes:"
    },
    {
      "metadata": {},
      "cell_type": "markdown",
      "source": "The ``loc`` attribute allows indexing and slicing that *always* references the **explicit** index:"
    },
    {
      "metadata": {
        "trusted": true
      },
      "cell_type": "code",
      "source": "series_example2",
      "execution_count": null,
      "outputs": []
    },
    {
      "metadata": {
        "trusted": true
      },
      "cell_type": "code",
      "source": "series_example2.loc['a']",
      "execution_count": null,
      "outputs": []
    },
    {
      "metadata": {
        "trusted": true
      },
      "cell_type": "code",
      "source": "series_example2.loc['a':'c']",
      "execution_count": null,
      "outputs": []
    },
    {
      "metadata": {},
      "cell_type": "markdown",
      "source": "The ``iloc`` attribute enables indexing and slicing using the **implicit**, Python-style index:"
    },
    {
      "metadata": {
        "trusted": true
      },
      "cell_type": "code",
      "source": "series_example2",
      "execution_count": null,
      "outputs": []
    },
    {
      "metadata": {},
      "cell_type": "markdown",
      "source": "**Share**"
    },
    {
      "metadata": {
        "trusted": true
      },
      "cell_type": "code",
      "source": "series_example2.iloc[0]",
      "execution_count": null,
      "outputs": []
    },
    {
      "metadata": {
        "trusted": true
      },
      "cell_type": "code",
      "source": "series_example2.iloc[0:2]",
      "execution_count": null,
      "outputs": []
    },
    {
      "metadata": {},
      "cell_type": "markdown",
      "source": "A guiding principle of the Python language is the idea that \"explicit is better than implicit.\" Professional code will generally use explicit indexing with ``loc`` and ``iloc`` and you should as well in order to make your code clean and readable."
    },
    {
      "metadata": {},
      "cell_type": "markdown",
      "source": "### Data Selection in DataFrames"
    },
    {
      "metadata": {},
      "cell_type": "markdown",
      "source": "``DataFrame``s also exhibit dual behavior, acting both like a two-dimensional `ndarray` and like a dictionary of ``Series``  sharing the same index."
    },
    {
      "metadata": {
        "trusted": true
      },
      "cell_type": "code",
      "source": "area = pd.Series({'Albania': 28748,\n                  'France': 643801,\n                  'Germany': 357386,\n                  'Japan': 377972,\n                  'Russia': 17125200})\npopulation = pd.Series ({'Albania': 2937590,\n                         'France': 65429495,\n                         'Germany': 82408706,\n                         'Russia': 143910127,\n                         'Japan': 126922333})\ncountries = pd.DataFrame({'Area': area, 'Population': population})\ncountries",
      "execution_count": null,
      "outputs": []
    },
    {
      "metadata": {},
      "cell_type": "markdown",
      "source": "We already know that you can access the individual ``Series`` that make up the columns of a ``DataFrame`` via dictionary-style indexing of the column name"
    },
    {
      "metadata": {},
      "cell_type": "markdown",
      "source": "**Share**"
    },
    {
      "metadata": {
        "trusted": true
      },
      "cell_type": "code",
      "source": "countries['Area']",
      "execution_count": null,
      "outputs": []
    },
    {
      "metadata": {
        "trusted": true
      },
      "cell_type": "code",
      "source": "countries['Population Density'] = countries['Population'] / countries['Area']\ncountries",
      "execution_count": null,
      "outputs": []
    },
    {
      "metadata": {},
      "cell_type": "markdown",
      "source": "### DataFrame as two-dimensional array"
    },
    {
      "metadata": {},
      "cell_type": "markdown",
      "source": "But, you can also think of ``DataFrame``s as two-dimensional arrays. You can examine the raw data in the `DataFrame` data array using the ``values`` attribute: "
    },
    {
      "metadata": {
        "trusted": true
      },
      "cell_type": "code",
      "source": "countries.values",
      "execution_count": null,
      "outputs": []
    },
    {
      "metadata": {},
      "cell_type": "markdown",
      "source": "Viewed this way it makes sense that we can transpose the rows and columns of a `DataFrame` the same way we would an array:"
    },
    {
      "metadata": {
        "trusted": true
      },
      "cell_type": "code",
      "source": "countries.T",
      "execution_count": null,
      "outputs": []
    },
    {
      "metadata": {},
      "cell_type": "markdown",
      "source": "`DataFrame` also uses the ``loc`` and ``iloc`` indexers. With ``iloc``, you can index the underlying array as if it were an `ndarray` but with the ``DataFrame`` index and column labels maintained in the result:"
    },
    {
      "metadata": {
        "trusted": true
      },
      "cell_type": "code",
      "source": "countries.iloc[:3, :2]",
      "execution_count": null,
      "outputs": []
    },
    {
      "metadata": {
        "trusted": true
      },
      "cell_type": "code",
      "source": "countries.loc[:'Germany', :'Population']",
      "execution_count": null,
      "outputs": []
    },
    {
      "metadata": {
        "collapsed": true
      },
      "cell_type": "markdown",
      "source": "### Exercise"
    },
    {
      "metadata": {
        "trusted": true
      },
      "cell_type": "code",
      "source": "# Can you think of how to use masking for a DataFrame?\n# Your masking could be somthing like countries['Population Density'] > 200\n\n\n",
      "execution_count": null,
      "outputs": []
    },
    {
      "metadata": {},
      "cell_type": "markdown",
      "source": "# Operating on Data in Pandas"
    },
    {
      "metadata": {},
      "cell_type": "markdown",
      "source": "pandas is widely used becaus it can perform efficient element-wise operations on data. pandas builds on ufuncs from NumPy to supply theses capabilities and then extends them to provide additional power for data manipulation.\n\nAll NumPy ufuncs that we learned last section will also work on pandas `Series` and `DataFrame` objects."
    },
    {
      "metadata": {},
      "cell_type": "markdown",
      "source": "**Think, Pair, Share** For each of these Sections."
    },
    {
      "metadata": {},
      "cell_type": "markdown",
      "source": "## Index alignment with Series\n\nFor our first example, suppose we are combining two different data sources and find only the top five countries by *area* and the top five countries by *population*:"
    },
    {
      "metadata": {
        "trusted": true
      },
      "cell_type": "code",
      "source": "area = pd.Series({'Russia': 17075400, 'Canada':  9984670,\n                  'USA': 9826675, 'China': 9598094, \n                  'Brazil': 8514877}, name='area')\npopulation = pd.Series({'China': 1409517397, 'India': 1339180127,\n                        'USA': 324459463, 'Indonesia': 322179605, \n                        'Brazil': 207652865}, name='population')",
      "execution_count": null,
      "outputs": []
    },
    {
      "metadata": {
        "trusted": true
      },
      "cell_type": "code",
      "source": "# Now divide these to compute the population density\n#pop_density = # fill me in\npop_density = population / area\npop_density",
      "execution_count": null,
      "outputs": []
    },
    {
      "metadata": {},
      "cell_type": "markdown",
      "source": "Your resulting array contains the **union** of indices of the two input arrays: seven countries in total. All of the countries in the array without an entry (because they lacked either area data or population data) are marked with the now familiar ``NaN``, or \"Not a Number,\" designation.\n\nIndex matching works the same way built-in Python arithmetic expressions and missing values are filled in with `NaN`s. You can see this clearly by adding two `Series` that are slightly misaligned in their indices:"
    },
    {
      "metadata": {
        "trusted": true
      },
      "cell_type": "code",
      "source": "series1 = pd.Series([2, 4, 6], index=[0, 1, 2])\nseries2 = pd.Series([3, 5, 7], index=[1, 2, 3])\nseries1 + series2",
      "execution_count": null,
      "outputs": []
    },
    {
      "metadata": {},
      "cell_type": "markdown",
      "source": "`NaN` values are not always convenient to work with; `NaN` combined with any other values results in `NaN`, which can be a pain, particulalry if you are combining multiple data sources with missing values. To help with this, pandas allows you to specify a default value to use for missing values in the operation. For example, calling `series1.add(series2)` is equivalent to calling `series1 + series2`, but you can supply the fill value:"
    },
    {
      "metadata": {
        "trusted": true
      },
      "cell_type": "code",
      "source": "series1.add(series2, fill_value=0)",
      "execution_count": null,
      "outputs": []
    },
    {
      "metadata": {},
      "cell_type": "markdown",
      "source": "Much better!"
    },
    {
      "metadata": {},
      "cell_type": "markdown",
      "source": "## Index alignment with DataFrames"
    },
    {
      "metadata": {},
      "cell_type": "markdown",
      "source": "The same kind of alignment takes place in both dimension (columns and indices) when you perform operations on ``DataFrame``s."
    },
    {
      "metadata": {
        "trusted": true
      },
      "cell_type": "code",
      "source": "rng = np.random.RandomState(42)\ndf1 = pd.DataFrame(rng.randint(0, 20, (2, 2)),\n                   columns=list('AB'))\ndf1",
      "execution_count": null,
      "outputs": []
    },
    {
      "metadata": {
        "trusted": true
      },
      "cell_type": "code",
      "source": "df2 = pd.DataFrame(rng.randint(0, 10, (3, 3)),\n                   columns=list('BAC'))\ndf2",
      "execution_count": null,
      "outputs": []
    },
    {
      "metadata": {},
      "cell_type": "markdown",
      "source": "**Think, Pair, Share**"
    },
    {
      "metadata": {
        "trusted": true
      },
      "cell_type": "code",
      "source": "# Add df1 and df2. Is the output what you expected?\ndf1 + df2",
      "execution_count": null,
      "outputs": []
    },
    {
      "metadata": {},
      "cell_type": "markdown",
      "source": "Even though we passed the columns in a different order in `df2` than in `df1`, the indices were aligned correctly sorted in the resulting union of columns."
    },
    {
      "metadata": {},
      "cell_type": "markdown",
      "source": "This table lists Python operators and their equivalent pandas object methods:\n\n| Python Operator | Pandas Method(s)                      |\n|-----------------|---------------------------------------|\n| ``+``           | ``add()``                             |\n| ``-``           | ``sub()``, ``subtract()``             |\n| ``*``           | ``mul()``, ``multiply()``             |\n| ``/``           | ``truediv()``, ``div()``, ``divide()``|\n| ``//``          | ``floordiv()``                        |\n| ``%``           | ``mod()``                             |\n| ``**``          | ``pow()``                             |\n"
    },
    {
      "metadata": {},
      "cell_type": "markdown",
      "source": "## Operations between DataFrames and Series\n\nIndex and column alignment gets maintained in operations between a `DataFrame` and a `Series` as well. To see this, consider a common operation in data science, wherein we find the difference of a `DataFrame` and one of its rows. Because pandas inherits ufuncs from NumPy, pandas will compute the difference row-wise by default:"
    },
    {
      "metadata": {
        "trusted": true
      },
      "cell_type": "code",
      "source": "df3 = pd.DataFrame(rng.randint(10, size=(3, 4)), columns=list('WXYZ'))\ndf3",
      "execution_count": null,
      "outputs": []
    },
    {
      "metadata": {
        "trusted": true
      },
      "cell_type": "code",
      "source": "df3 - df3.iloc[0]",
      "execution_count": null,
      "outputs": []
    },
    {
      "metadata": {},
      "cell_type": "markdown",
      "source": "But what if you need to operate column-wise? You can do this by using object methods and specifying the ``axis`` keyword."
    },
    {
      "metadata": {
        "trusted": true
      },
      "cell_type": "code",
      "source": "df3.subtract(df3['X'], axis=0)",
      "execution_count": null,
      "outputs": []
    },
    {
      "metadata": {},
      "cell_type": "markdown",
      "source": "And when you do operations between `DataFrame`s and `Series` operations, you still get automatic index alignment:"
    },
    {
      "metadata": {
        "trusted": true
      },
      "cell_type": "code",
      "source": "halfrow = df3.iloc[0, ::2]\nhalfrow",
      "execution_count": null,
      "outputs": []
    },
    {
      "metadata": {},
      "cell_type": "markdown",
      "source": "Note that the output from that operation was transposed. That was so that we can subtract it from the `DataFrame`:"
    },
    {
      "metadata": {
        "trusted": true
      },
      "cell_type": "code",
      "source": "df3 - halfrow",
      "execution_count": null,
      "outputs": []
    },
    {
      "metadata": {
        "trusted": true
      },
      "cell_type": "code",
      "source": "",
      "execution_count": null,
      "outputs": []
    }
  ],
  "metadata": {
    "anaconda-cloud": {},
    "kernelspec": {
      "name": "python3",
      "display_name": "Python 3",
      "language": "python"
    },
    "language_info": {
      "mimetype": "text/x-python",
      "nbconvert_exporter": "python",
      "name": "python",
      "pygments_lexer": "ipython3",
      "version": "3.5.4",
      "file_extension": ".py",
      "codemirror_mode": {
        "version": 3,
        "name": "ipython"
      }
    }
  },
  "nbformat": 4,
  "nbformat_minor": 1
}